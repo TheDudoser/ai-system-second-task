{
 "cells": [
  {
   "cell_type": "code",
   "execution_count": 13,
   "metadata": {},
   "outputs": [],
   "source": [
    "import requests\n",
    "import json"
   ]
  },
  {
   "cell_type": "code",
   "execution_count": 40,
   "metadata": {},
   "outputs": [],
   "source": [
    "def parse_nested_json(data):\n",
    "    \"\"\"\n",
    "    Recursively parse nested JSON strings into Python dictionaries.\n",
    "    \"\"\"\n",
    "    if isinstance(data, dict):\n",
    "        return {key: parse_nested_json(value) for key, value in data.items()}\n",
    "    elif isinstance(data, list):\n",
    "        return [parse_nested_json(item) for item in data]\n",
    "    elif isinstance(data, str):\n",
    "        try:\n",
    "            return parse_nested_json(json.loads(data))\n",
    "        except (json.JSONDecodeError, TypeError):\n",
    "            return data\n",
    "    else:\n",
    "        return data"
   ]
  },
  {
   "cell_type": "code",
   "execution_count": 28,
   "metadata": {},
   "outputs": [],
   "source": [
    "def get_token(username: str, password: str) -> str:\n",
    "    \"\"\"\n",
    "    Get token from iacpass\n",
    "    :param username: username\n",
    "    :param password: password\n",
    "    :return: token\n",
    "    \"\"\"\n",
    "    headers = {\n",
    "        \"accept\": \"application/json\",\n",
    "        \"Content-Type\": \"application/json\"\n",
    "    }\n",
    "\n",
    "    payload = {\"username\": username, \"password\": password}\n",
    "    r = requests.post(\"https://iacpaas.dvo.ru/api/signin\", json=payload, headers=headers)\n",
    "    if r.status_code != 200:\n",
    "        raise Exception(\"Failed to get token: {}\".format(r.text))\n",
    "    return r.json()[\"accessToken\"]\n"
   ]
  },
  {
   "cell_type": "code",
   "execution_count": 37,
   "metadata": {},
   "outputs": [],
   "source": [
    "def download_from_repo(name:str, path: str, token: str, json_type: str = \"universal\", compress: bool = False, no_blob_data: bool = True) -> None:\n",
    "    \"\"\"\n",
    "    Downloads a file from iacpass repository.\n",
    "    :param name: name of the file to be saved\n",
    "    :param url: base url to the repository\n",
    "    :param path: Path to the file\n",
    "    :param compress: ...\n",
    "    :param no_blob_data: ...\n",
    "    :return: None\n",
    "    \"\"\"\n",
    "\n",
    "    params = {\"path\": path, \"json-type\": json_type, \"compress\": compress, \"no-blob-data\": no_blob_data}\n",
    "\n",
    "    headers = {\"Authorization\": f\"Bearer {token}\"}\n",
    "\n",
    "    r = requests.get(\"https://iacpaas.dvo.ru/api/data/export/user-item\", params=params, headers=headers)\n",
    "\n",
    "    if r.status_code == 200:\n",
    "\n",
    "        response_json = r.json()\n",
    "\n",
    "        parsed_data = parse_nested_json(response_json)\n",
    "    \n",
    "        with open(f\"{name}.json\", \"w\", encoding=\"utf-8\") as json_file:\n",
    "            json.dump(parsed_data, json_file, indent=2, ensure_ascii=False)\n",
    "    \n",
    "        print(f\"File {name}.json has been saved\")\n",
    "    else:\n",
    "        raise Exception(\"Failed to download file\")\n",
    "\n",
    "\n",
    "    "
   ]
  },
  {
   "cell_type": "code",
   "execution_count": 32,
   "metadata": {},
   "outputs": [],
   "source": [
    "example_path = \" Загрузки / Архив протоколов технологических операций лазерной обработки\"\n"
   ]
  },
  {
   "cell_type": "code",
   "execution_count": 29,
   "metadata": {},
   "outputs": [],
   "source": [
    "token = get_token(\"some_email@ru\", \"some_password\")"
   ]
  },
  {
   "cell_type": "code",
   "execution_count": 39,
   "metadata": {},
   "outputs": [
    {
     "name": "stdout",
     "output_type": "stream",
     "text": [
      "Response saved to 'response.json'\n"
     ]
    }
   ],
   "source": [
    "download_from_repo(\"response\", example_path, token)"
   ]
  },
  {
   "cell_type": "code",
   "execution_count": null,
   "metadata": {},
   "outputs": [],
   "source": []
  }
 ],
 "metadata": {
  "kernelspec": {
   "display_name": "base",
   "language": "python",
   "name": "python3"
  },
  "language_info": {
   "codemirror_mode": {
    "name": "ipython",
    "version": 3
   },
   "file_extension": ".py",
   "mimetype": "text/x-python",
   "name": "python",
   "nbconvert_exporter": "python",
   "pygments_lexer": "ipython3",
   "version": "3.12.4"
  }
 },
 "nbformat": 4,
 "nbformat_minor": 2
}
