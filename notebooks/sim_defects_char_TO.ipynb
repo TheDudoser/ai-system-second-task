{
 "cells": [
  {
   "cell_type": "code",
   "execution_count": 1,
   "metadata": {
    "id": "iDHulp2Vacy3"
   },
   "outputs": [],
   "source": [
    "tz = {\n",
    "    'id': 521546468832664,\n",
    "    'name': 'Техническое задание на выполнение технологической операции',\n",
    "    'type': 'НЕТЕРМИНАЛ',\n",
    "    'meta': 'Техническое задание на выполнение технологической операции',\n",
    "    'successors': [{\n",
    "        'id': 521546468832668,\n",
    "        'name': 'Требования к результату операции',\n",
    "        'type': 'НЕТЕРМИНАЛ',\n",
    "        'meta': 'Требования к результату операции',\n",
    "        'successors': [{\n",
    "            'id': 521546468832672,\n",
    "            'name': 'Дефекты наплавленного материала',\n",
    "            'type': 'НЕТЕРМИНАЛ',\n",
    "            'meta': 'Дефекты наплавленного материала',\n",
    "            'successors': [{\n",
    "                'id': 521546468893006,\n",
    "                'name': 'Наличе пор и дефектов',\n",
    "                'type': 'ТЕРМИНАЛ-ЗНАЧЕНИЕ',\n",
    "                'valtype': 'STRING',\n",
    "                'meta': 'комментарий оператора',\n",
    "                'successors': [{\n",
    "                    'id': 521546468861634,\n",
    "                    'value': 15.5,\n",
    "                    'type': 'ТЕРМИНАЛ-ЗНАЧЕНИЕ',\n",
    "                    'valtype': 'REAL',\n",
    "                    'meta': 'Числовое значение'\n",
    "                }]\n",
    "            }]\n",
    "        }]\n",
    "    }]\n",
    "}"
   ]
  },
  {
   "cell_type": "markdown",
   "metadata": {
    "id": "iDHulp2Vacy3"
   },
   "source": [
    "tz_red = {\n",
    "    'id': 521546468832664,\n",
    "    'name': 'Техническое задание на выполнение технологической операции',\n",
    "    'type': 'НЕТЕРМИНАЛ',\n",
    "    'meta': 'Техническое задание на выполнение технологической операции',\n",
    "    'successors': [{\n",
    "        'id': 521546468832668,\n",
    "        'name': 'Требования к результату операции',\n",
    "        'type': 'НЕТЕРМИНАЛ',\n",
    "        'meta': 'Требования к результату операции',\n",
    "        'successors': [{\n",
    "            'id': 521546468832672,\n",
    "            'name': 'Дефекты наплавленного материала',\n",
    "            'type': 'НЕТЕРМИНАЛ',\n",
    "            'meta': 'Дефекты наплавленного материала',\n",
    "            'successors': [{\n",
    "                'id': 521546468893006,\n",
    "                'name': 'Наличе пор и дефектов',\n",
    "                'type': 'ТЕРМИНАЛ-ЗНАЧЕНИЕ',\n",
    "                'valtype': 'STRING',\n",
    "                'meta': 'комментарий оператора'\n",
    "    }]\n",
    "            }]\n",
    "        }]\n",
    "    }"
   ]
  },
  {
   "cell_type": "code",
   "execution_count": 3,
   "metadata": {
    "id": "58JYTGU3cU3e"
   },
   "outputs": [],
   "source": [
    "# fake data (not equal value elements)\n",
    "tz_green  = {\n",
    "    'id': 521546468832664,\n",
    "    'name': 'Техническое задание на выполнение технологической операции',\n",
    "    'type': 'НЕТЕРМИНАЛ',\n",
    "    'meta': 'Техническое задание на выполнение технологической операции',\n",
    "    'successors': [{\n",
    "        'id': 521546468832668,\n",
    "        'name': 'Требования к результату операции',\n",
    "        'type': 'НЕТЕРМИНАЛ',\n",
    "        'meta': 'Требования к результату операции',\n",
    "        'successors': [{\n",
    "            'id': 521546468832672,\n",
    "            'name': 'Дефекты наплавленного материала',\n",
    "            'type': 'НЕТЕРМИНАЛ',\n",
    "            'meta': 'Дефекты наплавленного материала',\n",
    "            'successors': [{\n",
    "                'id': 521546468893006,\n",
    "                'name': 'Наличе пор и дефектов',\n",
    "                'type': 'ТЕРМИНАЛ-ЗНАЧЕНИЕ',\n",
    "                'valtype': 'STRING',\n",
    "                'meta': 'комментарий оператора',\n",
    "                'successors': [{\n",
    "                    'id': 521546468861634,\n",
    "                    'value': 55.0,\n",
    "                    'type': 'ТЕРМИНАЛ-ЗНАЧЕНИЕ',\n",
    "                    'valtype': 'REAL',\n",
    "                    'meta': 'Числовое значение'\n",
    "                }]\n",
    "            }]\n",
    "        }]\n",
    "    }]\n",
    "}"
   ]
  },
  {
   "cell_type": "code",
   "execution_count": 4,
   "metadata": {
    "id": "bJlBLyKVXfoh"
   },
   "outputs": [],
   "source": [
    "from enum import Enum\n",
    "\n",
    "class Mark(Enum):\n",
    "    GREEN = 0\n",
    "    ORANGE = 5\n",
    "    RED = 10"
   ]
  },
  {
   "cell_type": "code",
   "execution_count": 34,
   "metadata": {},
   "outputs": [],
   "source": [
    "def compare_defects(json1, json2):\n",
    "    def extract_defect_value(data):\n",
    "        for requirement in data.get('successors', []):\n",
    "            for defect_group in requirement.get('successors', []):\n",
    "                for defect in defect_group.get('successors', []):\n",
    "                    if defect['name'] == 'Наличе пор и дефектов':\n",
    "                        for value in defect.get('successors', []):\n",
    "                            return value['value']\n",
    "        return None\n",
    "\n",
    "    value1 = extract_defect_value(json1)\n",
    "    value2 = extract_defect_value(json2)\n",
    "\n",
    "    print (\"Value1 =\",value1)\n",
    "    print (\"Value2 =\",value2)\n",
    "    \n",
    "    if value1 is None or value2 is None:\n",
    "        color = Mark.RED\n",
    "        return color, \"Сходство - нуль\",\n",
    "    else:    \n",
    "        difference = abs(value1 - value2)\n",
    "        \n",
    "        if difference < 10:\n",
    "            color = Mark.GREEN\n",
    "        elif 10 <= difference < 30:\n",
    "            color = Mark.ORANGE \n",
    "        else:\n",
    "            color = Mark.RED\n",
    "        return difference, color\n",
    "\n",
    "        "
   ]
  },
  {
   "cell_type": "code",
   "execution_count": 35,
   "metadata": {},
   "outputs": [
    {
     "name": "stdout",
     "output_type": "stream",
     "text": [
      "Value1 = 15.5\n",
      "Value2 = 55.0\n",
      "Разница: 39.5, Цвет: Mark.RED\n"
     ]
    }
   ],
   "source": [
    "difference, color = compare_defects(tz, tz_green)\n",
    "print(f\"Разница: {difference}, Цвет: {color}\")"
   ]
  },
  {
   "cell_type": "code",
   "execution_count": 36,
   "metadata": {},
   "outputs": [
    {
     "name": "stdout",
     "output_type": "stream",
     "text": [
      "Value1 = 15.5\n",
      "Value2 = None\n",
      "Разница: Mark.RED, Цвет: Сходство - нуль\n"
     ]
    }
   ],
   "source": [
    "difference, color = compare_defects(tz, tz_red)\n",
    "print(f\"Разница: {difference}, Цвет: {color}\")"
   ]
  },
  {
   "cell_type": "code",
   "execution_count": null,
   "metadata": {},
   "outputs": [],
   "source": []
  }
 ],
 "metadata": {
  "colab": {
   "provenance": []
  },
  "kernelspec": {
   "display_name": "Python 3 (ipykernel)",
   "language": "python",
   "name": "python3"
  },
  "language_info": {
   "codemirror_mode": {
    "name": "ipython",
    "version": 3
   },
   "file_extension": ".py",
   "mimetype": "text/x-python",
   "name": "python",
   "nbconvert_exporter": "python",
   "pygments_lexer": "ipython3",
   "version": "3.13.0"
  }
 },
 "nbformat": 4,
 "nbformat_minor": 4
}
