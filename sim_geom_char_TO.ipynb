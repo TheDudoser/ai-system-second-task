{
  "cells": [
    {
      "cell_type": "code",
      "source": [
        "tz = {'id': 521546468832664,\n",
        "           'name': 'Техническое задание на выполнение технологической операции',\n",
        "           'type': 'НЕТЕРМИНАЛ',\n",
        "           'meta': 'Техническое задание на выполнение технологической операции',\n",
        "           'successors': [{'id': 521546468832668,\n",
        "             'name': 'Требования к результату операции',\n",
        "             'type': 'НЕТЕРМИНАЛ',\n",
        "             'meta': 'Требования к результату операции',\n",
        "             'successors': [{'id': 521546468832672,\n",
        "               'name': 'Геометрические характеристики',\n",
        "               'type': 'НЕТЕРМИНАЛ',\n",
        "               'meta': 'Геометрические характеристики',\n",
        "               'successors': [{'id': 521546468832676,\n",
        "                 'name': 'Цилиндрическая полая деталь',\n",
        "                 'type': 'НЕТЕРМИНАЛ',\n",
        "                 'meta': 'Характеристика',\n",
        "                 'successors': [{'id': 521546468832680,\n",
        "                   'name': 'Диаметр',\n",
        "                   'type': 'НЕТЕРМИНАЛ',\n",
        "                   'meta': 'Характеристика',\n",
        "                   'successors': [{'id': 521546468832684,\n",
        "                     'name': 'Числовые значения с единицей измерения',\n",
        "                     'type': 'НЕТЕРМИНАЛ',\n",
        "                     'meta': 'Числовые значения с единицей измерения',\n",
        "                     'successors': [{'id': 521546468832688,\n",
        "                       'name': 'Числовое значение',\n",
        "                       'type': 'НЕТЕРМИНАЛ',\n",
        "                       'meta': 'Числовое значение',\n",
        "                       'successors': [{'id': 521546468862118,\n",
        "                         'value': 21.0,\n",
        "                         'type': 'ТЕРМИНАЛ-ЗНАЧЕНИЕ',\n",
        "                         'valtype': 'REAL',\n",
        "                         'meta': 'Числовое значение'},\n",
        "                        {'id': 521546468832698,\n",
        "                         'value': 'мм',\n",
        "                         'type': 'ТЕРМИНАЛ-ЗНАЧЕНИЕ',\n",
        "                         'valtype': 'STRING',\n",
        "                         'meta': 'единица измерения',\n",
        "                         'original': 'vadim@dvo.ru / Мой Фонд / Лазерное аддитивное производство / Система единиц физических величин$/Базовые единицы/Длина/метр/Дольные единицы/миллиметр/мм;'}]}]}]}]}]}]},\n",
        "            {'id': 521546468856384,\n",
        "             'name': 'Материал для выполнения технологической операции',\n",
        "             'type': 'НЕТЕРМИНАЛ',\n",
        "             'meta': 'Материал для выполнения технологической операции',\n",
        "             'successors': [{'id': 111274012704780,\n",
        "               'name': 'МПФ-4',\n",
        "               'type': 'НЕТЕРМИНАЛ',\n",
        "               'meta': 'Металлический порошок',\n",
        "               'link': 'vadim@dvo.ru / Мой Фонд / Лазерное аддитивное производство / База металлопорошковых материалов$/Порошки магния/МПФ-4;'}]}]}"
      ],
      "metadata": {
        "id": "V2RPlAXkbhSv"
      },
      "execution_count": 13,
      "outputs": []
    },
    {
      "cell_type": "code",
      "source": [
        "tz_red = {'id': 521546468840836,\n",
        "           'name': 'Техническое задание на выполнение технологической операции',\n",
        "           'type': 'НЕТЕРМИНАЛ',\n",
        "           'meta': 'Техническое задание на выполнение технологической операции',\n",
        "           'successors': [{'id': 521546468840840,\n",
        "             'name': 'Требования к результату операции',\n",
        "             'type': 'НЕТЕРМИНАЛ',\n",
        "             'meta': 'Требования к результату операции',\n",
        "             'successors': [{'id': 521546468841152,\n",
        "               'name': 'Геометрические характеристики',\n",
        "               'type': 'НЕТЕРМИНАЛ',\n",
        "               'meta': 'Геометрические характеристики',\n",
        "               'successors': [{'id': 521546468841156,\n",
        "                 'name': 'Электронная геометрическая модель',\n",
        "                 'type': 'НЕТЕРМИНАЛ',\n",
        "                 'meta': 'Электронная геометрическая модель',\n",
        "                 'successors': [{'id': 521546468841162,\n",
        "                   'value': '1ad098d0bcd0bfd0bbd0b0d0bdd182d0b0d182313030322e73746c',\n",
        "                   'type': 'ТЕРМИНАЛ-ЗНАЧЕНИЕ',\n",
        "                   'valtype': 'BLOB',\n",
        "                   'meta': 'файл'}]}]}]},\n",
        "            {'id': 521546468856360,\n",
        "             'name': 'Материал для выполнения технологической операции',\n",
        "             'type': 'НЕТЕРМИНАЛ',\n",
        "             'meta': 'Материал для выполнения технологической операции',\n",
        "             'successors': [{'id': 111274012705588,\n",
        "               'name': 'БрАЖНМц8,5-4-5-1,5',\n",
        "               'type': 'НЕТЕРМИНАЛ',\n",
        "               'meta': 'Металлический порошок',\n",
        "               'link': 'vadim@dvo.ru / Мой Фонд / Лазерное аддитивное производство / База металлопорошковых материалов$/Порошки бронзы/БрАЖНМц8,5-4-5-1,5;'}]}]}"
      ],
      "metadata": {
        "id": "iDHulp2Vacy3"
      },
      "execution_count": 14,
      "outputs": []
    },
    {
      "cell_type": "code",
      "source": [
        "# fake data (not equal value elements)\n",
        "tz_green = tz = {'id': 521546468832664,\n",
        "           'name': 'Техническое задание на выполнение технологической операции',\n",
        "           'type': 'НЕТЕРМИНАЛ',\n",
        "           'meta': 'Техническое задание на выполнение технологической операции',\n",
        "           'successors': [{'id': 521546468832668,\n",
        "             'name': 'Требования к результату операции',\n",
        "             'type': 'НЕТЕРМИНАЛ',\n",
        "             'meta': 'Требования к результату операции',\n",
        "             'successors': [{'id': 521546468832672,\n",
        "               'name': 'Геометрические характеристики',\n",
        "               'type': 'НЕТЕРМИНАЛ',\n",
        "               'meta': 'Геометрические характеристики',\n",
        "               'successors': [{'id': 521546468832681,\n",
        "                 'name': 'Цилиндрическая полая деталь',\n",
        "                 'type': 'НЕТЕРМИНАЛ',\n",
        "                 'meta': 'Характеристика',\n",
        "                 'successors': [{'id': 521546468832682,\n",
        "                   'name': 'Диаметр',\n",
        "                   'type': 'НЕТЕРМИНАЛ',\n",
        "                   'meta': 'Характеристика',\n",
        "                   'successors': [{'id': 521546468832683,\n",
        "                     'name': 'Числовые значения с единицей измерения',\n",
        "                     'type': 'НЕТЕРМИНАЛ',\n",
        "                     'meta': 'Числовые значения с единицей измерения',\n",
        "                     'successors': [{'id': 521546468832684,\n",
        "                       'name': 'Числовое значение',\n",
        "                       'type': 'НЕТЕРМИНАЛ',\n",
        "                       'meta': 'Числовое значение',\n",
        "                       'successors': [{'id': 521546468862185,\n",
        "                         'value': 22,\n",
        "                         'type': 'ТЕРМИНАЛ-ЗНАЧЕНИЕ',\n",
        "                         'valtype': 'INTEGER',\n",
        "                         'meta': 'Числовое значение'},\n",
        "                        {'id': 521546468832686,\n",
        "                         'value': 'TEST',\n",
        "                         'type': 'ТЕРМИНАЛ-ЗНАЧЕНИЕ',\n",
        "                         'valtype': 'STRING',\n",
        "                         'meta': 'единица измерения',\n",
        "                         'original': 'vadim@dvo.ru / Мой Фонд / Лазерное аддитивное производство / Система единиц физических величин$/Базовые единицы/Длина/метр/Дольные единицы/миллиметр/мм;'}]}]}]}]}]}]},\n",
        "            {'id': 521546468856384,\n",
        "             'name': 'Материал для выполнения технологической операции',\n",
        "             'type': 'НЕТЕРМИНАЛ',\n",
        "             'meta': 'Материал для выполнения технологической операции',\n",
        "             'successors': [{'id': 111274012704780,\n",
        "               'name': 'МПФ-4',\n",
        "               'type': 'НЕТЕРМИНАЛ',\n",
        "               'meta': 'Металлический порошок',\n",
        "               'link': 'vadim@dvo.ru / Мой Фонд / Лазерное аддитивное производство / База металлопорошковых материалов$/Порошки магния/МПФ-4;'}]}]}"
      ],
      "metadata": {
        "id": "58JYTGU3cU3e"
      },
      "execution_count": 15,
      "outputs": []
    },
    {
      "cell_type": "code",
      "source": [
        "def find_name_value(data, name):\n",
        " \"\"\"\n",
        "  Function to find an object with a given key \"name\" and its value.\n",
        "\n",
        "  Args:\n",
        "  data: Data in dictionary format.\n",
        "  name: The searched value of the key \"name\".\n",
        "\n",
        "  Returns:\n",
        "  A dictionary with the found object or None if the object is not found.\n",
        " \"\"\"\n",
        "\n",
        " if 'name' in data and data['name'] == name:\n",
        "  return data\n",
        "\n",
        " for item in data.values():\n",
        "  if isinstance(item, dict):\n",
        "   result = find_name_value(item, name)\n",
        "   if result:\n",
        "    return result\n",
        "  elif isinstance(item, list):\n",
        "   for sub_item in item:\n",
        "    result = find_name_value(sub_item, name)\n",
        "    if result:\n",
        "     return result\n",
        "\n",
        " return None"
      ],
      "metadata": {
        "id": "7oX-8NPw6UHC"
      },
      "execution_count": 16,
      "outputs": []
    },
    {
      "cell_type": "code",
      "source": [
        "from enum import Enum\n",
        "\n",
        "class Mark(Enum):\n",
        "    GREEN = 0\n",
        "    ORANGE = 5\n",
        "    RED = 10"
      ],
      "metadata": {
        "id": "bJlBLyKVXfoh"
      },
      "execution_count": 17,
      "outputs": []
    },
    {
      "cell_type": "code",
      "source": [
        "from typing import Final\n",
        "\n",
        "GEOMETRICAL_CHARACTERISTICS_VALUE: Final = 'Геометрические характеристики'\n",
        "\n",
        "def sim_geometrical_characteristics(tz, tz_new) -> Mark:\n",
        " \"\"\"\n",
        "  Takes 2 ТЗ and compares their geometric characteristics.\n",
        "\n",
        "  Args:\n",
        "  tz: Operation ТЗ (ethalon).\n",
        "  tz_new: new ТЗ.\n",
        "\n",
        "  Returns:\n",
        "  Mark.GREEN, if the sets of characteristics are identical in structure, otherwise Mark.RED.\n",
        " \"\"\"\n",
        "\n",
        " el1 = find_name_value(tz, GEOMETRICAL_CHARACTERISTICS_VALUE)\n",
        " el2 = find_name_value(tz_new, GEOMETRICAL_CHARACTERISTICS_VALUE)\n",
        "\n",
        " if el1 is None or el2 is None:\n",
        "  return Mark.RED\n",
        "\n",
        " # Получаем список имен характеристик\n",
        " names1 = [item['name'] for item in el1['successors']]\n",
        " names2 = [item['name'] for item in el2['successors']]\n",
        "\n",
        " # Сравниваем состав характеристик\n",
        " if set(names1) == set(names2):\n",
        "  return Mark.GREEN\n",
        " else:\n",
        "  return Mark.RED"
      ],
      "metadata": {
        "id": "xhrFgLep4DfC"
      },
      "execution_count": 18,
      "outputs": []
    },
    {
      "cell_type": "code",
      "source": [
        "sim_geometrical_characteristics(tz, tz_red)"
      ],
      "metadata": {
        "colab": {
          "base_uri": "https://localhost:8080/"
        },
        "id": "TfIp926gAvur",
        "outputId": "f1672dac-9cde-4a5f-f14f-ecbc74bcf54b"
      },
      "execution_count": 19,
      "outputs": [
        {
          "output_type": "execute_result",
          "data": {
            "text/plain": [
              "<Mark.RED: 10>"
            ]
          },
          "metadata": {},
          "execution_count": 19
        }
      ]
    },
    {
      "cell_type": "code",
      "source": [
        "sim_geometrical_characteristics(tz, tz_green)"
      ],
      "metadata": {
        "colab": {
          "base_uri": "https://localhost:8080/"
        },
        "id": "G3DlyFvxdKUP",
        "outputId": "61d31391-f349-4373-edc8-98b5186cb249"
      },
      "execution_count": 20,
      "outputs": [
        {
          "output_type": "execute_result",
          "data": {
            "text/plain": [
              "<Mark.GREEN: 0>"
            ]
          },
          "metadata": {},
          "execution_count": 20
        }
      ]
    }
  ],
  "metadata": {
    "kernelspec": {
      "display_name": "base",
      "language": "python",
      "name": "python3"
    },
    "language_info": {
      "codemirror_mode": {
        "name": "ipython",
        "version": 3
      },
      "file_extension": ".py",
      "mimetype": "text/x-python",
      "name": "python",
      "nbconvert_exporter": "python",
      "pygments_lexer": "ipython3",
      "version": "3.12.4"
    },
    "colab": {
      "provenance": []
    }
  },
  "nbformat": 4,
  "nbformat_minor": 0
}