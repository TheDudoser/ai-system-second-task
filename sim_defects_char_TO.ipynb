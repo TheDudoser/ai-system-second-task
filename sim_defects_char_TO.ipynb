{
 "cells": [
  {
   "cell_type": "code",
   "execution_count": 44,
   "metadata": {
    "id": "iDHulp2Vacy3"
   },
   "outputs": [],
   "source": [
    "tz_red = {'id': 521546468832664,\n",
    "           'name': 'Техническое задание на выполнение технологической операции',\n",
    "           'type': 'НЕТЕРМИНАЛ',\n",
    "           'meta': 'Техническое задание на выполнение технологической операции',\n",
    "           'successors': [{'id': 521546468832668,\n",
    "             'name': 'Требования к результату операции',\n",
    "             'type': 'НЕТЕРМИНАЛ',\n",
    "             'meta': 'Требования к результату операции',\n",
    "             'successors':[{'id': 521546468832672,\n",
    "               'name': 'Дефекты наплавленного материала',\n",
    "               'type': 'НЕТЕРМИНАЛ',\n",
    "               'meta': 'Дефекты наплавленного материала',\n",
    "               'successors':[{'id' : 521546468688904,\n",
    "                      'name' : 'Трещины',\n",
    "                      'type' : 'НЕТЕРМИНАЛ',\n",
    "                      'meta' : 'Дефект',\n",
    "                      'original' : 'vadim@dvo.ru / Мой Фонд / Лазерное аддитивное производство / База дефектов металла$/Дефекты при сварке и наплавке/Трещины;',\n",
    "                      'successors' :[{'id' : 521546468861478,\n",
    "                                      'value' : 'отсутствие', \n",
    "                                      'type' : 'ТЕРМИНАЛ-ЗНАЧЕНИЕ',     \n",
    "                                      'valtype' : 'STRING',    \n",
    "                                      'meta' : 'отсутствие'}]},\n",
    "                        {'id' : 521546468688912,           \n",
    "                         'name' : 'Пустоты',    \n",
    "                         'type' : 'НЕТЕРМИНАЛ',        \n",
    "                         'meta' : 'Дефект',    \n",
    "                         'original' : 'vadim@dvo.ru / Мой Фонд / Лазерное аддитивное производство / База дефектов металла$/Дефекты при сварке и наплавке/Пустоты;',      \n",
    "                         'successors' : [{'id' : 521546468861482,\n",
    "                                          'value' : 'отсутствие',       \n",
    "                                          'type' : 'ТЕРМИНАЛ-ЗНАЧЕНИЕ',       \n",
    "                                          'valtype' : 'STRING',       \n",
    "                                          'meta' : 'отсутствие'}]},\n",
    "                        \n",
    "                        {'id' : 521546468893006, \n",
    "                         'value' : 'Наличе пор и дефектов',\n",
    "                         'type' : 'ТЕРМИНАЛ-ЗНАЧЕНИЕ',      \n",
    "                         'valtype' : 'STRING',     \n",
    "                         'meta' : 'комментарий оператора',\n",
    "                         'successors' : [{'id' : 521546468840824,\n",
    "                                        'name' : 'Процент пористости',         \n",
    "                                        'type' : 'НЕТЕРМИНАЛ',\n",
    "                                        'meta' : 'Процент пористости',\n",
    "                                        'successors' : [{'id' : 521546468861634,\n",
    "                                                        'value' : 15.5,\n",
    "                                                        'type' : 'ТЕРМИНАЛ-ЗНАЧЕНИЕ',      \n",
    "                                                        'valtype' : 'REAL',  \n",
    "                                                        'meta' : 'Числовое значение'}]}]}]}]}]}"
   ]
  },
  {
   "cell_type": "code",
   "execution_count": 45,
   "metadata": {
    "id": "58JYTGU3cU3e"
   },
   "outputs": [],
   "source": [
    "# fake data (not equal value elements)\n",
    "tz_green = tz = {'id': 521546468832664,\n",
    "           'name': 'Техническое задание на выполнение технологической операции',\n",
    "           'type': 'НЕТЕРМИНАЛ',\n",
    "           'meta': 'Техническое задание на выполнение технологической операции',\n",
    "           'successors': [{'id': 521546468832668,\n",
    "             'name': 'Требования к результату операции',\n",
    "             'type': 'НЕТЕРМИНАЛ',\n",
    "             'meta': 'Требования к результату операции',\n",
    "             'successors':[{'id': 521546468832672,\n",
    "               'name': 'Дефекты наплавленного материала',\n",
    "               'type': 'НЕТЕРМИНАЛ',\n",
    "               'meta': 'Дефекты наплавленного материала',\n",
    "               'successors':[{'id' : 521546468688904,\n",
    "                      'name' : 'Трещины',\n",
    "                      'type' : 'НЕТЕРМИНАЛ',\n",
    "                      'meta' : 'Дефект',\n",
    "                      'original' : 'vadim@dvo.ru / Мой Фонд / Лазерное аддитивное производство / База дефектов металла$/Дефекты при сварке и наплавке/Трещины;',\n",
    "                      'successors' :[{'id' : 521546468861478,\n",
    "                                      'value' : 'отсутствие', \n",
    "                                      'type' : 'ТЕРМИНАЛ-ЗНАЧЕНИЕ',     \n",
    "                                      'valtype' : 'STRING',    \n",
    "                                      'meta' : 'отсутствие'}]},\n",
    "                        {'id' : 521546468688912,           \n",
    "                         'name' : 'Пустоты',    \n",
    "                         'type' : 'НЕТЕРМИНАЛ',        \n",
    "                         'meta' : 'Дефект',    \n",
    "                         'original' : 'vadim@dvo.ru / Мой Фонд / Лазерное аддитивное производство / База дефектов металла$/Дефекты при сварке и наплавке/Пустоты;',      \n",
    "                         'successors' : [{'id' : 521546468861482,\n",
    "                                          'value' : 'отсутствие',       \n",
    "                                          'type' : 'ТЕРМИНАЛ-ЗНАЧЕНИЕ',       \n",
    "                                          'valtype' : 'STRING',       \n",
    "                                          'meta' : 'отсутствие'}]},\n",
    "                        \n",
    "                        {'id' : 521546468893006, \n",
    "                         'value' : 'Наличе пор и дефектов',\n",
    "                         'type' : 'ТЕРМИНАЛ-ЗНАЧЕНИЕ',      \n",
    "                         'valtype' : 'STRING',     \n",
    "                         'meta' : 'комментарий оператора'}\n",
    "                                                        ]}]}]}"
   ]
  },
  {
   "cell_type": "code",
   "execution_count": 46,
   "metadata": {
    "id": "7oX-8NPw6UHC"
   },
   "outputs": [],
   "source": [
    "def find_name_value(data, name):\n",
    " '''\n",
    "  Function to find an object with a given key 'name' and its value.\n",
    "\n",
    "  Args:\n",
    "  data: Data in dictionary format.\n",
    "  name: The searched value of the key 'name'.\n",
    "\n",
    "  Returns:\n",
    "  A dictionary with the found object or None if the object is not found.\n",
    " '''\n",
    "\n",
    " if 'name' in data and data['name'] == name:\n",
    "  return data\n",
    "\n",
    " for item in data.values():\n",
    "  if isinstance(item, dict):\n",
    "   result = find_name_value(item, name)\n",
    "   if result:\n",
    "    return result\n",
    "  elif isinstance(item, list):\n",
    "   for sub_item in item:\n",
    "    result = find_name_value(sub_item, name)\n",
    "    if result:\n",
    "     return result\n",
    "\n",
    " return None"
   ]
  },
  {
   "cell_type": "code",
   "execution_count": 47,
   "metadata": {
    "id": "bJlBLyKVXfoh"
   },
   "outputs": [],
   "source": [
    "from enum import Enum\n",
    "\n",
    "class Mark(Enum):\n",
    "    GREEN = 0\n",
    "    ORANGE = 5\n",
    "    RED = 10"
   ]
  },
  {
   "cell_type": "code",
   "execution_count": 48,
   "metadata": {
    "id": "xhrFgLep4DfC"
   },
   "outputs": [],
   "source": [
    "from typing import Final\n",
    "\n",
    "DEFECT_POROSITY_VALUE: Final = 'Наличе пор и дефектов'\n",
    "\n",
    "def sim_defect_porosity(tz, tz_new) -> Mark:\n",
    " '''\n",
    "  Takes 2 ТЗ and compares their geometric characteristics.\n",
    "\n",
    "  Args:\n",
    "  tz: Operation ТЗ (ethalon).\n",
    "  tz_new: new ТЗ.\n",
    "\n",
    "  Returns:\n",
    "  Mark.GREEN, if the sets of characteristics are identical in structure, otherwise Mark.RED.\n",
    " '''\n",
    "\n",
    " el1 = find_name_value(tz, DEFECT_POROSITY_VALUE)\n",
    " el2 = find_name_value(tz_new, DEFECT_POROSITY_VALUE)\n",
    "\n",
    " if el1 is None or el2 is None:\n",
    "  return Mark.RED\n",
    "\n",
    " # Получаем список имен характеристик\n",
    " names1 = [item['name'] for item in el1['successors']]\n",
    " names2 = [item['name'] for item in el2['successors']]\n",
    "\n",
    " # Сравниваем состав характеристик\n",
    " if set(names1) == set(names2):\n",
    "  return Mark.GREEN\n",
    " else:\n",
    "  return Mark.RED"
   ]
  },
  {
   "cell_type": "code",
   "execution_count": 49,
   "metadata": {
    "colab": {
     "base_uri": "https://localhost:8080/"
    },
    "id": "TfIp926gAvur",
    "outputId": "f1672dac-9cde-4a5f-f14f-ecbc74bcf54b"
   },
   "outputs": [
    {
     "data": {
      "text/plain": [
       "<Mark.RED: 10>"
      ]
     },
     "execution_count": 49,
     "metadata": {},
     "output_type": "execute_result"
    }
   ],
   "source": [
    "sim_defect_porosity(tz, tz_red)"
   ]
  },
  {
   "cell_type": "code",
   "execution_count": 50,
   "metadata": {
    "colab": {
     "base_uri": "https://localhost:8080/"
    },
    "id": "G3DlyFvxdKUP",
    "outputId": "61d31391-f349-4373-edc8-98b5186cb249"
   },
   "outputs": [
    {
     "data": {
      "text/plain": [
       "<Mark.RED: 10>"
      ]
     },
     "execution_count": 50,
     "metadata": {},
     "output_type": "execute_result"
    }
   ],
   "source": [
    "sim_defect_porosity(tz, tz_green)"
   ]
  }
 ],
 "metadata": {
  "colab": {
   "provenance": []
  },
  "kernelspec": {
   "display_name": "Python 3 (ipykernel)",
   "language": "python",
   "name": "python3"
  },
  "language_info": {
   "codemirror_mode": {
    "name": "ipython",
    "version": 3
   },
   "file_extension": ".py",
   "mimetype": "text/x-python",
   "name": "python",
   "nbconvert_exporter": "python",
   "pygments_lexer": "ipython3",
   "version": "3.13.0"
  }
 },
 "nbformat": 4,
 "nbformat_minor": 4
}
